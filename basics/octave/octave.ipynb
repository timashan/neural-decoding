{
 "cells": [
  {
   "cell_type": "code",
   "execution_count": 3,
   "metadata": {},
   "outputs": [],
   "source": [
    "# https://stackoverflow.com/questions/13512743/display-struct-fields-without-the-mess\n",
    "% print_struct_array_contents(true)"
   ]
  },
  {
   "cell_type": "code",
   "execution_count": 33,
   "metadata": {},
   "outputs": [
    {
     "name": "stdout",
     "output_type": "stream",
     "text": [
      "ans =\n",
      "{\n",
      "  [1,1] = fltk\n",
      "  [1,2] = gnuplot\n",
      "}\n",
      "\n"
     ]
    }
   ],
   "source": [
    "available_graphics_toolkits()"
   ]
  },
  {
   "cell_type": "code",
   "execution_count": 34,
   "metadata": {},
   "outputs": [],
   "source": [
    "% https://stackoverflow.com/questions/65511187/jupyter-octave-kernel-inline-graph-windows\n",
    "# set(gcf,'Visible','on')\n",
    "graphics_toolkit gnuplot"
   ]
  },
  {
   "cell_type": "code",
   "execution_count": 35,
   "metadata": {},
   "outputs": [
    {
     "name": "stdout",
     "output_type": "stream",
     "text": [
      "Variables visible from the current scope:\n",
      "\n",
      "variables in scope: top scope\n",
      "\n",
      "  Attr   Name        Size                     Bytes  Class\n",
      "  ====   ====        ====                     =====  ===== \n",
      "         ans         1x2                         11  cell\n",
      "         x           1x10                        24  double\n",
      "\n",
      "Total is 12 elements using 35 bytes\n",
      "\n"
     ]
    }
   ],
   "source": [
    "whos"
   ]
  },
  {
   "cell_type": "code",
   "execution_count": 42,
   "metadata": {},
   "outputs": [],
   "source": [
    "%plot gnuplot\n",
    "x = 1: 10;\n",
    "plot(x)"
   ]
  },
  {
   "cell_type": "code",
   "execution_count": 44,
   "metadata": {},
   "outputs": [
    {
     "data": {
      "image/png": "[encoded data removed]",
      "text/plain": [
       "<IPython.core.display.Image object>"
      ]
     },
     "metadata": {},
     "output_type": "display_data"
    }
   ],
   "source": [
    "%plot inline\n",
    "x = 1: 10;\n",
    "plot(x)"
   ]
  },
  {
   "cell_type": "code",
   "execution_count": 20,
   "metadata": {},
   "outputs": [
    {
     "name": "stdout",
     "output_type": "stream",
     "text": [
      "Package Name         | Version | Installation directory\n",
      "---------------------+---------+-----------------------\n",
      "              audio  |   2.0.8 | ...\\mingw64\\share\\octave\\packages\\audio-2.0.8\n",
      "             biosig  |   2.6.0 | ...\\mingw64\\share\\octave\\packages\\biosig-2.6.0\n",
      "            cfitsio  |   0.0.6 | ...\\mingw64\\share\\octave\\packages\\cfitsio-0.0.6\n",
      "     communications  |   1.2.6 | ...\\share\\octave\\packages\\communications-1.2.6\n",
      "            control  |   4.0.1 | ...\\mingw64\\share\\octave\\packages\\control-4.0.1\n",
      "     data-smoothing  |   1.3.0 | ...\\share\\octave\\packages\\data-smoothing-1.3.0\n",
      "           database  |   2.4.4 | ...\\share\\octave\\packages\\database-2.4.4\n",
      "          dataframe  |   1.2.0 | ...\\share\\octave\\packages\\dataframe-1.2.0\n",
      "              dicom  |   0.6.0 | ...\\mingw64\\share\\octave\\packages\\dicom-0.6.0\n",
      "          financial  |   0.5.3 | ...\\share\\octave\\packages\\financial-0.5.3\n",
      "fuzzy-logic-toolkit  |   0.5.1 | ...\\octave\\packages\\fuzzy-logic-toolkit-0.5.1\n",
      "                 ga  |  0.10.4 | ...\\mingw64\\share\\octave\\packages\\ga-0.10.4\n",
      "            general  |   2.1.3 | ...\\mingw64\\share\\octave\\packages\\general-2.1.3\n",
      "      generate_html  |   0.3.3 | ...\\share\\octave\\packages\\generate_html-0.3.3\n",
      "           geometry  |   4.1.0 | ...\\share\\octave\\packages\\geometry-4.1.0\n",
      "                gsl  |   2.1.1 | ...\\mingw64\\share\\octave\\packages\\gsl-2.1.1\n",
      "              image  |  2.14.0 | ...\\mingw64\\share\\octave\\packages\\image-2.14.0\n",
      " instrument-control  |   0.9.3 | ...\\octave\\packages\\instrument-control-0.9.3\n",
      "           interval  |   3.2.1 | ...\\share\\octave\\packages\\interval-3.2.1\n",
      "                 io  |   2.6.4 | ...\\mingw64\\share\\octave\\packages\\io-2.6.4\n",
      "     linear-algebra  |   2.2.3 | ...\\share\\octave\\packages\\linear-algebra-2.2.3\n",
      "               lssa  |   0.1.4 | ...\\mingw64\\share\\octave\\packages\\lssa-0.1.4\n",
      "              ltfat  |   2.6.0 | ...\\mingw64\\share\\octave\\packages\\ltfat-2.6.0\n",
      "            mapping  |   1.4.2 | ...\\mingw64\\share\\octave\\packages\\mapping-1.4.2\n",
      "            matgeom  |   1.2.4 | ...\\mingw64\\share\\octave\\packages\\matgeom-1.2.4\n",
      "      miscellaneous  |   1.3.0 | ...\\share\\octave\\packages\\miscellaneous-1.3.0\n",
      "               mqtt  |   0.0.5 | ...\\mingw64\\share\\octave\\packages\\mqtt-0.0.5\n",
      "                nan  |   3.7.0 | ...\\mingw64\\share\\octave\\packages\\nan-3.7.0\n",
      "             netcdf  |  1.0.17 | ...\\mingw64\\share\\octave\\packages\\netcdf-1.0.17\n",
      "              nurbs  |   1.4.3 | ...\\mingw64\\share\\octave\\packages\\nurbs-1.4.3\n",
      "                ocs  |   0.1.5 | ...\\mingw64\\share\\octave\\packages\\ocs-0.1.5\n",
      "            octproj  |   3.0.2 | ...\\mingw64\\share\\octave\\packages\\octproj-3.0.2\n",
      "              optim  |   1.6.2 | ...\\mingw64\\share\\octave\\packages\\optim-1.6.2\n",
      "        optiminterp  |   0.3.7 | ...\\share\\octave\\packages\\optiminterp-0.3.7\n",
      "         quaternion  |   2.4.0 | ...\\share\\octave\\packages\\quaternion-2.4.0\n",
      "           queueing  |   1.2.8 | ...\\share\\octave\\packages\\queueing-1.2.8\n",
      "             signal  |   1.4.5 | ...\\mingw64\\share\\octave\\packages\\signal-1.4.5\n",
      "            sockets  |   1.4.1 | ...\\mingw64\\share\\octave\\packages\\sockets-1.4.1\n",
      "          sparsersb  |   1.0.9 | ...\\share\\octave\\packages\\sparsersb-1.0.9\n",
      "            splines  |   1.3.5 | ...\\mingw64\\share\\octave\\packages\\splines-1.3.5\n",
      "         statistics  |   1.6.6 | ...\\share\\octave\\packages\\statistics-1.6.6\n",
      "                stk  |   2.8.1 | ...\\mingw64\\share\\octave\\packages\\stk-2.8.1\n",
      "            strings  |   1.3.1 | ...\\mingw64\\share\\octave\\packages\\strings-1.3.1\n",
      "             struct  |  1.0.18 | ...\\mingw64\\share\\octave\\packages\\struct-1.0.18\n",
      "           symbolic  |   3.2.1 | ...\\share\\octave\\packages\\symbolic-3.2.1\n",
      "         tablicious  |   0.4.2 | ...\\share\\octave\\packages\\tablicious-0.4.2\n",
      "                tsa  |   4.6.3 | ...\\mingw64\\share\\octave\\packages\\tsa-4.6.3\n",
      "              video  |   2.1.1 | ...\\mingw64\\share\\octave\\packages\\video-2.1.1\n",
      "            windows  |   1.6.4 | ...\\mingw64\\share\\octave\\packages\\windows-1.6.4\n",
      "             zeromq  |   1.5.6 | ...\\mingw64\\share\\octave\\packages\\zeromq-1.5.6\n"
     ]
    }
   ],
   "source": [
    "pkg list"
   ]
  },
  {
   "cell_type": "code",
   "execution_count": 49,
   "metadata": {},
   "outputs": [
    {
     "name": "stdout",
     "output_type": "stream",
     "text": [
      "load\n",
      "w = 5\n"
     ]
    }
   ],
   "source": [
    "a;\n",
    "w = b(5)"
   ]
  }
 ],
 "metadata": {
  "kernelspec": {
   "display_name": "Octave",
   "language": "octave",
   "name": "octave"
  },
  "language_info": {
   "file_extension": ".m",
   "help_links": [
    {
     "text": "GNU Octave",
     "url": "https://www.gnu.org/software/octave/support.html"
    },
    {
     "text": "Octave Kernel",
     "url": "https://github.com/Calysto/octave_kernel"
    },
    {
     "text": "MetaKernel Magics",
     "url": "https://metakernel.readthedocs.io/en/latest/source/README.html"
    }
   ],
   "mimetype": "text/x-octave",
   "name": "octave",
   "version": "9.2.0"
  }
 },
 "nbformat": 4,
 "nbformat_minor": 2
}
