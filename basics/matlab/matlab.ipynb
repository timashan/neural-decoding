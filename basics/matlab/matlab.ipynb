{
 "cells": [
  {
   "cell_type": "code",
   "execution_count": 14,
   "metadata": {},
   "outputs": [
    {
     "name": "stdout",
     "output_type": "stream",
     "text": [
      "hello world\n",
      "hello world\n",
      "\n"
     ]
    }
   ],
   "source": [
    "disp('hello world')\n",
    "disp 'hello world'"
   ]
  },
  {
   "cell_type": "code",
   "execution_count": 4,
   "metadata": {},
   "outputs": [
    {
     "name": "stdout",
     "output_type": "stream",
     "text": [
      "\n"
     ]
    }
   ],
   "source": [
    "% https://www.mathworks.com/help/matlab/ref/colormap.html\n",
    "set(0,'DefaultFigureColormap',feval('turbo'));"
   ]
  },
  {
   "cell_type": "code",
   "execution_count": 1,
   "metadata": {},
   "outputs": [
    {
     "name": "stdout",
     "output_type": "stream",
     "text": [
      "  Name      Size            Bytes  Class     Attributes\n",
      "\n",
      "  x         1x10               80  double              \n",
      "\n",
      "\n"
     ]
    }
   ],
   "source": [
    "x = 1:10;\n",
    "whos"
   ]
  },
  {
   "cell_type": "code",
   "execution_count": 2,
   "metadata": {},
   "outputs": [
    {
     "name": "stdout",
     "output_type": "stream",
     "text": [
      "\n"
     ]
    }
   ],
   "source": [
    "%plot native\n",
    "% https://teshansj.tech.blog/2020/11/22/matlab-in-jupyter-notebook/\n",
    "plot(x)"
   ]
  },
  {
   "cell_type": "code",
   "execution_count": 3,
   "metadata": {},
   "outputs": [
    {
     "name": "stdout",
     "output_type": "stream",
     "text": [
      "\n"
     ]
    },
    {
     "data": {
      "image/png": "[encoded data removed]",
      "text/plain": [
       "<IPython.core.display.Image object>"
      ]
     },
     "metadata": {},
     "output_type": "display_data"
    }
   ],
   "source": [
    "%plot inline --size 1000,400 (width, height)\n",
    "x = 1:10;\n",
    "plot(x)"
   ]
  },
  {
   "cell_type": "code",
   "execution_count": 3,
   "metadata": {},
   "outputs": [
    {
     "name": "stdout",
     "output_type": "stream",
     "text": [
      "Created file 'c:\\Users\\timashan\\Documents\\Code\\DS\\neural-decoding\\basics\\matlab\\fn.m'.\n"
     ]
    }
   ],
   "source": [
    "%%file fn.m\n",
    "function r = fn()\n",
    "    r = 5\n",
    "end"
   ]
  },
  {
   "cell_type": "code",
   "execution_count": 29,
   "metadata": {},
   "outputs": [
    {
     "name": "stdout",
     "output_type": "stream",
     "text": [
      "\n",
      "ans =\n",
      "\n",
      "    5.5000\n",
      "\n",
      "\n"
     ]
    }
   ],
   "source": [
    "bc = BasicClass;\n",
    "bc.Value = 5.45;\n",
    "bc.roundOff()"
   ]
  }
 ],
 "metadata": {
  "kernelspec": {
   "display_name": "Matlab",
   "language": "matlab",
   "name": "matlab"
  },
  "language_info": {
   "codemirror_mode": "octave",
   "file_extension": ".m",
   "help_links": [
    {
     "text": "MetaKernel Magics",
     "url": "https://metakernel.readthedocs.io/en/latest/source/README.html"
    }
   ],
   "mimetype": "text/x-octave",
   "name": "matlab",
   "version": "0.17.1"
  }
 },
 "nbformat": 4,
 "nbformat_minor": 2
}
